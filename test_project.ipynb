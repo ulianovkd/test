{
 "cells": [
  {
   "cell_type": "code",
   "execution_count": 1,
   "metadata": {
    "colab": {},
    "colab_type": "code",
    "id": "ZWqG6nA3whAE"
   },
   "outputs": [],
   "source": [
    "import requests\n",
    "import os"
   ]
  },
  {
   "cell_type": "markdown",
   "metadata": {
    "colab_type": "text",
    "id": "vV58hLFE1tBK"
   },
   "source": [
    "В документации к API image-net предлагается получать ссылки на изображения следующим образом:\n",
    "\n",
    "```\n",
    "http://www.image-net.org/api/text/imagenet.synset.geturls?wnid=[wnid]\n",
    "```\n",
    "\n",
    "`wnid` — идентификатор категории.\n",
    "\n",
    "К сожалению, на данный момент накакие изображения (включая кошек и собак) недоступны."
   ]
  },
  {
   "cell_type": "code",
   "execution_count": 2,
   "metadata": {
    "colab": {},
    "colab_type": "code",
    "id": "_97GFA0C3GLM"
   },
   "outputs": [],
   "source": [
    "api_url = 'http://www.image-net.org/api/text/imagenet.synset.geturls?wnid='\n",
    "wnid_cats = 'n02121808'\n",
    "wnid_dogs = 'n02084071'"
   ]
  },
  {
   "cell_type": "code",
   "execution_count": 3,
   "metadata": {
    "colab": {
     "base_uri": "https://localhost:8080/",
     "height": 35
    },
    "colab_type": "code",
    "id": "0pYGi5Om3eIL",
    "outputId": "e85c00aa-d915-41c1-80a6-ec5c566ff7b8"
   },
   "outputs": [
    {
     "data": {
      "text/plain": [
       "<Response [404]>"
      ]
     },
     "execution_count": 3,
     "metadata": {},
     "output_type": "execute_result"
    }
   ],
   "source": [
    "requests.get(api_url + wnid_cats)"
   ]
  },
  {
   "cell_type": "code",
   "execution_count": 4,
   "metadata": {
    "colab": {
     "base_uri": "https://localhost:8080/",
     "height": 35
    },
    "colab_type": "code",
    "id": "Pc9LZz9X3lc6",
    "outputId": "edd0b896-9447-49c3-9757-0ea18e209343"
   },
   "outputs": [
    {
     "data": {
      "text/plain": [
       "<Response [404]>"
      ]
     },
     "execution_count": 4,
     "metadata": {},
     "output_type": "execute_result"
    }
   ],
   "source": [
    "requests.get(api_url, wnid_dogs)"
   ]
  },
  {
   "cell_type": "markdown",
   "metadata": {
    "colab_type": "text",
    "id": "ba4WGogk3tAL"
   },
   "source": [
    "Поэтому изображения будут загружаться с GitHub, но по точно такому же принципу: на отдельных страницах перечислены ссылки на изображения, которые затем используются для загрузки."
   ]
  },
  {
   "cell_type": "code",
   "execution_count": 5,
   "metadata": {
    "colab": {},
    "colab_type": "code",
    "id": "d3OfAt4zwhAi"
   },
   "outputs": [],
   "source": [
    "BASE_URL = 'https://raw.githubusercontent.com/ulianovkd/test/master/'\n",
    "TRAIN_RATIO = 0.8"
   ]
  },
  {
   "cell_type": "code",
   "execution_count": 6,
   "metadata": {
    "colab": {},
    "colab_type": "code",
    "id": "iynJNT1J4sE7"
   },
   "outputs": [],
   "source": [
    "def get_img_urls(category_id):\n",
    "    '''Returns a list of image urls'''\n",
    "    response = requests.get(BASE_URL + category_id)\n",
    "    if response.status_code == 200:\n",
    "        return response.content.decode('utf-8').split('\\n')"
   ]
  },
  {
   "cell_type": "code",
   "execution_count": 7,
   "metadata": {
    "colab": {},
    "colab_type": "code",
    "id": "o8pdgn7YwhAu"
   },
   "outputs": [],
   "source": [
    "def download_image(url, path):\n",
    "    '''Downloads an image'''\n",
    "    response = requests.get(url)\n",
    "    if response.status_code == 200:\n",
    "        img_data = response.content\n",
    "        with open(path, 'wb') as file:\n",
    "            file.write(img_data)"
   ]
  },
  {
   "cell_type": "code",
   "execution_count": 8,
   "metadata": {
    "colab": {},
    "colab_type": "code",
    "id": "vc0XvT0Q-DVk"
   },
   "outputs": [],
   "source": [
    "from pymongo import MongoClient\n",
    "client = MongoClient()\n",
    "db = client.test_database\n",
    "col = db.cats_and_dogs"
   ]
  },
  {
   "cell_type": "code",
   "execution_count": 9,
   "metadata": {
    "colab": {},
    "colab_type": "code",
    "id": "b20oucFuwhBD"
   },
   "outputs": [],
   "source": [
    "for category in ['cats', 'dogs']:\n",
    "    img_urls = get_img_urls(category + '.list')\n",
    "    img_train_size = round(len(img_urls) * TRAIN_RATIO)\n",
    "\n",
    "    os.makedirs('data/train/' + category, exist_ok=True)\n",
    "    os.makedirs('data/test/' + category, exist_ok=True)\n",
    "\n",
    "    for i in range(len(img_urls)):\n",
    "        if i < img_train_size:\n",
    "            path = 'data/train/' + category\n",
    "        else:\n",
    "            path = 'data/test/' + category\n",
    "\n",
    "        path += '/img' + str(i) + '.jpg'\n",
    "\n",
    "        download_image(img_urls[i], path)\n",
    "        \n",
    "        doc = {'category': category[:-1],\n",
    "                'path': path}\n",
    "        col.insert_one(doc)"
   ]
  },
  {
   "cell_type": "code",
   "execution_count": null,
   "metadata": {},
   "outputs": [],
   "source": []
  }
 ],
 "metadata": {
  "colab": {
   "name": "Untitled.ipynb",
   "provenance": []
  },
  "kernelspec": {
   "display_name": "Python 3",
   "language": "python",
   "name": "python3"
  },
  "language_info": {
   "codemirror_mode": {
    "name": "ipython",
    "version": 3
   },
   "file_extension": ".py",
   "mimetype": "text/x-python",
   "name": "python",
   "nbconvert_exporter": "python",
   "pygments_lexer": "ipython3",
   "version": "3.7.3"
  }
 },
 "nbformat": 4,
 "nbformat_minor": 1
}
